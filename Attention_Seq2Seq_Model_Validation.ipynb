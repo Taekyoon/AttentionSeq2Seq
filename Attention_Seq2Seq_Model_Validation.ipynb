{
 "cells": [
  {
   "cell_type": "code",
   "execution_count": 1,
   "metadata": {
    "collapsed": true
   },
   "outputs": [],
   "source": [
    "import tensorflow as tf\n",
    "import numpy as np\n",
    "from model import AttentionSeq2Seq"
   ]
  },
  {
   "cell_type": "code",
   "execution_count": 2,
   "metadata": {},
   "outputs": [
    {
     "name": "stdout",
     "output_type": "stream",
     "text": [
      "2.22547\n",
      "2.0272\n",
      "1.74798\n",
      "1.58104\n",
      "1.39543\n",
      "1.24363\n",
      "1.15733\n",
      "1.07998\n",
      "1.00791\n",
      "0.948618\n",
      "[[[0]\n",
      "  [2]\n",
      "  [7]\n",
      "  [0]]\n",
      "\n",
      " [[7]\n",
      "  [2]\n",
      "  [7]\n",
      "  [0]]\n",
      "\n",
      " [[7]\n",
      "  [8]\n",
      "  [7]\n",
      "  [0]]]\n"
     ]
    }
   ],
   "source": [
    "# integrated testing\n",
    "batch_size = 3\n",
    "enc_sequence_len = 3\n",
    "dec_sequence_len = 4\n",
    "symbol_size = 10\n",
    "embedding_size = 64\n",
    "hidden_size = 3\n",
    "layer_size = 1\n",
    "\n",
    "x = np.array([[1,2,3],\n",
    "              [4,5,6],\n",
    "              [7,8,9]])\n",
    "Y = np.array([[1,2,3,4],\n",
    "              [5,6,7,8],\n",
    "              [7,8,9,0]])\n",
    "\n",
    "S = np.array([[0],\n",
    "              [0],\n",
    "              [0]])\n",
    "\n",
    "sess = tf.Session()\n",
    "\n",
    "model = AttentionSeq2Seq(sess,\n",
    "                         batch_size,\n",
    "                         enc_sequence_len, \n",
    "                         dec_sequence_len,\n",
    "                         symbol_size,\n",
    "                         symbol_size,\n",
    "                         embedding_size,\n",
    "                         hidden_size)\n",
    "\n",
    "sess.run(tf.global_variables_initializer())\n",
    "\n",
    "for _ in range(10):\n",
    "    loss, _ = model.train(x, Y, Y)\n",
    "    print(loss)\n",
    "\n",
    "pred = model.prediction(x, S)\n",
    "print(pred)"
   ]
  },
  {
   "cell_type": "code",
   "execution_count": 2,
   "metadata": {},
   "outputs": [
    {
     "name": "stdout",
     "output_type": "stream",
     "text": [
      "decoder/embeddings\n",
      "decoder/decoder_0_step/rnn/transpose decoder/decoder_0_step/rnn/while/Exit_2\n",
      "decoder/decoder_0_step/fully_connected/Relu\n",
      "decoder/decoder_1_step/rnn/transpose decoder/decoder_1_step/rnn/while/Exit_2\n",
      "decoder/decoder_1_step/fully_connected/Relu\n",
      "decoder/decoder_2_step/rnn/transpose decoder/decoder_2_step/rnn/while/Exit_2\n",
      "decoder/decoder_2_step/fully_connected/Relu\n",
      "decoder/decoder_3_step/rnn/transpose decoder/decoder_3_step/rnn/while/Exit_2\n",
      "decoder/decoder_3_step/fully_connected/Relu\n",
      "decoder_train_END\n",
      "decoder/embeddings\n",
      "decoder_1/decoder_0_step/rnn/transpose decoder_1/decoder_0_step/rnn/while/Exit_2\n",
      "decoder_1/decoder_0_step/fully_connected/Relu\n",
      "decoder_1/decoder_1_step/rnn/transpose decoder_1/decoder_1_step/rnn/while/Exit_2\n",
      "decoder_1/decoder_1_step/fully_connected/Relu\n",
      "decoder_1/decoder_2_step/rnn/transpose decoder_1/decoder_2_step/rnn/while/Exit_2\n",
      "decoder_1/decoder_2_step/fully_connected/Relu\n",
      "decoder_1/decoder_3_step/rnn/transpose decoder_1/decoder_3_step/rnn/while/Exit_2\n",
      "decoder_1/decoder_3_step/fully_connected/Relu\n"
     ]
    }
   ],
   "source": [
    "batch_size = 3\n",
    "enc_sequence_len = 3\n",
    "dec_sequence_len = 4\n",
    "symbol_size = 10\n",
    "embedding_size = 64\n",
    "hidden_size = 3\n",
    "layer_size = 1\n",
    "\n",
    "sess = tf.Session()\n",
    "\n",
    "model = AttentionSeq2Seq(sess,\n",
    "                         batch_size,\n",
    "                         enc_sequence_len, \n",
    "                         dec_sequence_len,\n",
    "                         symbol_size,\n",
    "                         symbol_size,\n",
    "                         embedding_size,\n",
    "                         hidden_size)\n",
    "\n",
    "model.test_decoder_pred()"
   ]
  }
 ],
 "metadata": {
  "kernelspec": {
   "display_name": "Python 3",
   "language": "python",
   "name": "python3"
  },
  "language_info": {
   "codemirror_mode": {
    "name": "ipython",
    "version": 3
   },
   "file_extension": ".py",
   "mimetype": "text/x-python",
   "name": "python",
   "nbconvert_exporter": "python",
   "pygments_lexer": "ipython3",
   "version": "3.6.0"
  }
 },
 "nbformat": 4,
 "nbformat_minor": 2
}
